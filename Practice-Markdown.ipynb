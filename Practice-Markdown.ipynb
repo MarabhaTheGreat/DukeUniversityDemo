{
 "cells": [
  {
   "cell_type": "markdown",
   "metadata": {},
   "source": [
    "## Practice Markdown"
   ]
  },
  {
   "cell_type": "code",
   "execution_count": 4,
   "metadata": {},
   "outputs": [
    {
     "name": "stdout",
     "output_type": "stream",
     "text": [
      "hello world\n"
     ]
    },
    {
     "data": {
      "text/plain": [
       "'\\nThis is for my Certification with DUKE UNIVERSITY!!!\\n'"
      ]
     },
     "execution_count": 4,
     "metadata": {},
     "output_type": "execute_result"
    }
   ],
   "source": [
    "print(\"hello world\")\n",
    "\n",
    "# Omar \"Neural Network Ninja\" Marabha (Triple N)\n",
    "\n",
    "\"\"\"\n",
    "This is for my Certification with DUKE UNIVERSITY!!!\n",
    "\"\"\"\n"
   ]
  },
  {
   "cell_type": "markdown",
   "metadata": {},
   "source": [
    "## Subtitle\n",
    "\n",
    "**Bold text**\n",
    "\n",
    "*Italic text*\n",
    "\n",
    "- Bullet list item 1\n",
    "- Bullet list item 2\n",
    "\n",
    "1. Numbered list item 1\n",
    "2. Numbered list item 2\n",
    "\n",
    "[MyEyeOnAi](https://OmarMarabha.com)\n",
    "\n",
    "> Blockquote\n",
    "\n",
    "Inline code: `print(\"Hello World\")`\n",
    "\n",
    "Code block:\n",
    "\n",
    "```python\n",
    "def greet(name):\n",
    "    print(f\"Hello, {name}!\")\n"
   ]
  },
  {
   "cell_type": "code",
   "execution_count": null,
   "metadata": {},
   "outputs": [],
   "source": []
  }
 ],
 "metadata": {
  "kernelspec": {
   "display_name": "Python 3",
   "language": "python",
   "name": "python3"
  },
  "language_info": {
   "codemirror_mode": {
    "name": "ipython",
    "version": 3
   },
   "file_extension": ".py",
   "mimetype": "text/x-python",
   "name": "python",
   "nbconvert_exporter": "python",
   "pygments_lexer": "ipython3",
   "version": "3.7.6"
  }
 },
 "nbformat": 4,
 "nbformat_minor": 4
}
